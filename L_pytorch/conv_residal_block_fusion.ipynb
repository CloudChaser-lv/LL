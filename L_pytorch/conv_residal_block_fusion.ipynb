{
 "cells": [
  {
   "cell_type": "code",
   "execution_count": 2,
   "id": "b8017495",
   "metadata": {
    "scrolled": true
   },
   "outputs": [
    {
     "name": "stdout",
     "output_type": "stream",
     "text": [
      "tensor([[[[ 0.2250,  0.3193,  0.3193,  0.3193,  0.3193,  0.3193,  0.3193,\n",
      "            0.3193,  0.5856],\n",
      "          [ 0.0465, -0.2173, -0.2173, -0.2173, -0.2173, -0.2173, -0.2173,\n",
      "           -0.2173,  0.2894],\n",
      "          [ 0.0465, -0.2173, -0.2173, -0.2173, -0.2173, -0.2173, -0.2173,\n",
      "           -0.2173,  0.2894],\n",
      "          [ 0.0465, -0.2173, -0.2173, -0.2173, -0.2173, -0.2173, -0.2173,\n",
      "           -0.2173,  0.2894],\n",
      "          [ 0.0465, -0.2173, -0.2173, -0.2173, -0.2173, -0.2173, -0.2173,\n",
      "           -0.2173,  0.2894],\n",
      "          [ 0.0465, -0.2173, -0.2173, -0.2173, -0.2173, -0.2173, -0.2173,\n",
      "           -0.2173,  0.2894],\n",
      "          [ 0.0465, -0.2173, -0.2173, -0.2173, -0.2173, -0.2173, -0.2173,\n",
      "           -0.2173,  0.2894],\n",
      "          [ 0.0465, -0.2173, -0.2173, -0.2173, -0.2173, -0.2173, -0.2173,\n",
      "           -0.2173,  0.2894],\n",
      "          [-0.0074, -0.1716, -0.1716, -0.1716, -0.1716, -0.1716, -0.1716,\n",
      "           -0.1716,  0.2308]],\n",
      "\n",
      "         [[ 1.6921,  1.4458,  1.4458,  1.4458,  1.4458,  1.4458,  1.4458,\n",
      "            1.4458,  1.4250],\n",
      "          [ 1.7049,  1.0913,  1.0913,  1.0913,  1.0913,  1.0913,  1.0913,\n",
      "            1.0913,  1.2812],\n",
      "          [ 1.7049,  1.0913,  1.0913,  1.0913,  1.0913,  1.0913,  1.0913,\n",
      "            1.0913,  1.2812],\n",
      "          [ 1.7049,  1.0913,  1.0913,  1.0913,  1.0913,  1.0913,  1.0913,\n",
      "            1.0913,  1.2812],\n",
      "          [ 1.7049,  1.0913,  1.0913,  1.0913,  1.0913,  1.0913,  1.0913,\n",
      "            1.0913,  1.2812],\n",
      "          [ 1.7049,  1.0913,  1.0913,  1.0913,  1.0913,  1.0913,  1.0913,\n",
      "            1.0913,  1.2812],\n",
      "          [ 1.7049,  1.0913,  1.0913,  1.0913,  1.0913,  1.0913,  1.0913,\n",
      "            1.0913,  1.2812],\n",
      "          [ 1.7049,  1.0913,  1.0913,  1.0913,  1.0913,  1.0913,  1.0913,\n",
      "            1.0913,  1.2812],\n",
      "          [ 2.0434,  1.4146,  1.4146,  1.4146,  1.4146,  1.4146,  1.4146,\n",
      "            1.4146,  1.5836]]]], grad_fn=<AddBackward0>)\n"
     ]
    }
   ],
   "source": [
    "import torch\n",
    "import torch.nn.functional as F\n",
    "import torch.nn as nn\n",
    "\n",
    "\n",
    "# res_block = 3*3 conv + 1*1 conv + input\n",
    "\n",
    "\n",
    "in_channels = 2\n",
    "out_channels = 2\n",
    "kernel_size = 3\n",
    "w = 9\n",
    "h = 9\n",
    "# 方法一：原生写法\n",
    "x = torch.ones(1, in_channels, w, h)\n",
    "\n",
    "conv_2d = nn.Conv2d(in_channels, out_channels, kernel_size, padding=\"same\")\n",
    "conv_2d_pointwise = nn.Conv2d(in_channels, out_channels, 1)\n",
    "result1 = conv_2d(x) + conv_2d_pointwise(x) + x\n",
    "print(result1)\n"
   ]
  },
  {
   "cell_type": "code",
   "execution_count": 3,
   "id": "6e161b06",
   "metadata": {},
   "outputs": [],
   "source": [
    "# 方法二：算子融合\n",
    "\n",
    "pointwise_to_conv_weight = F.pad(conv_2d_pointwise.weight, [1,1,1,1,0,0,0,0])\n",
    "conv_2d_for_pointwise = nn.Conv2d(in_channels, out_channels, kernel_size, padding=\"same\")\n",
    "conv_2d_for_pointwise.weight = nn.Parameter(pointwise_to_conv_weight)\n",
    "conv_2d_for_pointwise.bias = conv_2d_pointwise.bias"
   ]
  },
  {
   "cell_type": "code",
   "execution_count": 7,
   "id": "2aae0c82",
   "metadata": {},
   "outputs": [
    {
     "data": {
      "text/plain": [
       "tensor([[0., 0., 0., 0.],\n",
       "        [0., 1., 1., 0.],\n",
       "        [0., 1., 1., 0.],\n",
       "        [0., 0., 0., 0.]])"
      ]
     },
     "execution_count": 7,
     "metadata": {},
     "output_type": "execute_result"
    }
   ],
   "source": [
    "F.pad(torch.ones(1,1),[1,1,1,1])"
   ]
  },
  {
   "cell_type": "code",
   "execution_count": 6,
   "id": "ea84a9d5",
   "metadata": {},
   "outputs": [
    {
     "data": {
      "text/plain": [
       "torch.nn.parameter.Parameter"
      ]
     },
     "execution_count": 6,
     "metadata": {},
     "output_type": "execute_result"
    }
   ],
   "source": [
    "type(conv_2d_for_pointwise.weight)"
   ]
  },
  {
   "cell_type": "code",
   "execution_count": null,
   "id": "10751277",
   "metadata": {},
   "outputs": [],
   "source": []
  }
 ],
 "metadata": {
  "kernelspec": {
   "display_name": "Python 3 (ipykernel)",
   "language": "python",
   "name": "python3"
  },
  "language_info": {
   "codemirror_mode": {
    "name": "ipython",
    "version": 3
   },
   "file_extension": ".py",
   "mimetype": "text/x-python",
   "name": "python",
   "nbconvert_exporter": "python",
   "pygments_lexer": "ipython3",
   "version": "3.9.7"
  }
 },
 "nbformat": 4,
 "nbformat_minor": 5
}
