{
 "cells": [
  {
   "cell_type": "code",
   "execution_count": 1,
   "id": "b8017495",
   "metadata": {},
   "outputs": [
    {
     "name": "stdout",
     "output_type": "stream",
     "text": [
      "tensor([[[[ 0.0955, -0.0327, -0.0327, -0.0327, -0.0327, -0.0327, -0.0327,\n",
      "           -0.0327,  0.3135],\n",
      "          [-0.1058, -0.5925, -0.5925, -0.5925, -0.5925, -0.5925, -0.5925,\n",
      "           -0.5925, -0.0721],\n",
      "          [-0.1058, -0.5925, -0.5925, -0.5925, -0.5925, -0.5925, -0.5925,\n",
      "           -0.5925, -0.0721],\n",
      "          [-0.1058, -0.5925, -0.5925, -0.5925, -0.5925, -0.5925, -0.5925,\n",
      "           -0.5925, -0.0721],\n",
      "          [-0.1058, -0.5925, -0.5925, -0.5925, -0.5925, -0.5925, -0.5925,\n",
      "           -0.5925, -0.0721],\n",
      "          [-0.1058, -0.5925, -0.5925, -0.5925, -0.5925, -0.5925, -0.5925,\n",
      "           -0.5925, -0.0721],\n",
      "          [-0.1058, -0.5925, -0.5925, -0.5925, -0.5925, -0.5925, -0.5925,\n",
      "           -0.5925, -0.0721],\n",
      "          [-0.1058, -0.5925, -0.5925, -0.5925, -0.5925, -0.5925, -0.5925,\n",
      "           -0.5925, -0.0721],\n",
      "          [ 0.3213,  0.0059,  0.0059,  0.0059,  0.0059,  0.0059,  0.0059,\n",
      "            0.0059,  0.2734]],\n",
      "\n",
      "         [[ 2.0079,  1.9879,  1.9879,  1.9879,  1.9879,  1.9879,  1.9879,\n",
      "            1.9879,  1.9816],\n",
      "          [ 1.6925,  1.4352,  1.4352,  1.4352,  1.4352,  1.4352,  1.4352,\n",
      "            1.4352,  1.5340],\n",
      "          [ 1.6925,  1.4352,  1.4352,  1.4352,  1.4352,  1.4352,  1.4352,\n",
      "            1.4352,  1.5340],\n",
      "          [ 1.6925,  1.4352,  1.4352,  1.4352,  1.4352,  1.4352,  1.4352,\n",
      "            1.4352,  1.5340],\n",
      "          [ 1.6925,  1.4352,  1.4352,  1.4352,  1.4352,  1.4352,  1.4352,\n",
      "            1.4352,  1.5340],\n",
      "          [ 1.6925,  1.4352,  1.4352,  1.4352,  1.4352,  1.4352,  1.4352,\n",
      "            1.4352,  1.5340],\n",
      "          [ 1.6925,  1.4352,  1.4352,  1.4352,  1.4352,  1.4352,  1.4352,\n",
      "            1.4352,  1.5340],\n",
      "          [ 1.6925,  1.4352,  1.4352,  1.4352,  1.4352,  1.4352,  1.4352,\n",
      "            1.4352,  1.5340],\n",
      "          [ 1.4215,  1.0464,  1.0464,  1.0464,  1.0464,  1.0464,  1.0464,\n",
      "            1.0464,  1.0936]]]], grad_fn=<AddBackward0>)\n"
     ]
    }
   ],
   "source": [
    "import torch\n",
    "import torch.nn.functional as F\n",
    "import torch.nn as nn\n",
    "\n",
    "\n",
    "# res_block = 3*3 conv + 1*1 conv + input\n",
    "\n",
    "\n",
    "in_channels = 2\n",
    "out_channels = 2\n",
    "kernel_size = 3\n",
    "w = 9\n",
    "h = 9\n",
    "# 方法一：原生写法\n",
    "x = torch.ones(1, in_channels, w, h)\n",
    "\n",
    "conv_2d = nn.Conv2d(in_channels, out_channels, kernel_size, padding=\"same\")\n",
    "conv_2d_pointwise = nn.Conv2d(in_channels, out_channels, 1)\n",
    "result1 = conv_2d(x) + conv_2d_pointwise(x) + x\n",
    "print(result1)\n"
   ]
  },
  {
   "cell_type": "code",
   "execution_count": null,
   "id": "6e161b06",
   "metadata": {},
   "outputs": [],
   "source": [
    "# 方法二：算子融合\n",
    "\n",
    "pointwise_to_conv_weight = F.pad(conv_2d_pointwise.weight, [1,1,1,1,0,0,0,0])\n",
    "conv_2d_for_pointwise = nn.Conv2d(in_channels, out_channels, kernel_size, padding=\"same\")\n",
    "conv_2d_for_pointwise.weight = nn.Parameter(pointwise_to_conv_weight)\n",
    "conv_2d_for_pointwise.bias = conv_2d_pointwise.bias"
   ]
  },
  {
   "cell_type": "code",
   "execution_count": 7,
   "id": "2aae0c82",
   "metadata": {},
   "outputs": [
    {
     "data": {
      "text/plain": [
       "tensor([[0., 0., 0., 0.],\n",
       "        [0., 1., 1., 0.],\n",
       "        [0., 1., 1., 0.],\n",
       "        [0., 0., 0., 0.]])"
      ]
     },
     "execution_count": 7,
     "metadata": {},
     "output_type": "execute_result"
    }
   ],
   "source": [
    "F.pad(torch.ones(1,1),[1,1,1,1])"
   ]
  },
  {
   "cell_type": "code",
   "execution_count": null,
   "id": "ea84a9d5",
   "metadata": {},
   "outputs": [],
   "source": []
  }
 ],
 "metadata": {
  "kernelspec": {
   "display_name": "Python 3 (ipykernel)",
   "language": "python",
   "name": "python3"
  },
  "language_info": {
   "codemirror_mode": {
    "name": "ipython",
    "version": 3
   },
   "file_extension": ".py",
   "mimetype": "text/x-python",
   "name": "python",
   "nbconvert_exporter": "python",
   "pygments_lexer": "ipython3",
   "version": "3.9.7"
  }
 },
 "nbformat": 4,
 "nbformat_minor": 5
}
